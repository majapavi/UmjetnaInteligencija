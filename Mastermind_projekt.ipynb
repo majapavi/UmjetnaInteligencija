{
  "nbformat": 4,
  "nbformat_minor": 0,
  "metadata": {
    "colab": {
      "provenance": [],
      "include_colab_link": true
    },
    "kernelspec": {
      "name": "python3",
      "display_name": "Python 3"
    },
    "language_info": {
      "name": "python"
    },
    "widgets": {
      "application/vnd.jupyter.widget-state+json": {
        "5dc02cd36478445c96f5768419067b3a": {
          "model_module": "@jupyter-widgets/controls",
          "model_name": "IntSliderModel",
          "model_module_version": "1.5.0",
          "state": {
            "_dom_classes": [],
            "_model_module": "@jupyter-widgets/controls",
            "_model_module_version": "1.5.0",
            "_model_name": "IntSliderModel",
            "_view_count": null,
            "_view_module": "@jupyter-widgets/controls",
            "_view_module_version": "1.5.0",
            "_view_name": "IntSliderView",
            "continuous_update": true,
            "description": "Duljina:",
            "description_tooltip": null,
            "disabled": false,
            "layout": "IPY_MODEL_dd49fedea2d44b98b5eea761e16e8420",
            "max": 6,
            "min": 3,
            "orientation": "horizontal",
            "readout": true,
            "readout_format": "d",
            "step": 1,
            "style": "IPY_MODEL_0801084f1f1e4098926b03f5813458e8",
            "value": 4
          }
        },
        "dd49fedea2d44b98b5eea761e16e8420": {
          "model_module": "@jupyter-widgets/base",
          "model_name": "LayoutModel",
          "model_module_version": "1.2.0",
          "state": {
            "_model_module": "@jupyter-widgets/base",
            "_model_module_version": "1.2.0",
            "_model_name": "LayoutModel",
            "_view_count": null,
            "_view_module": "@jupyter-widgets/base",
            "_view_module_version": "1.2.0",
            "_view_name": "LayoutView",
            "align_content": null,
            "align_items": null,
            "align_self": null,
            "border": null,
            "bottom": null,
            "display": null,
            "flex": null,
            "flex_flow": null,
            "grid_area": null,
            "grid_auto_columns": null,
            "grid_auto_flow": null,
            "grid_auto_rows": null,
            "grid_column": null,
            "grid_gap": null,
            "grid_row": null,
            "grid_template_areas": null,
            "grid_template_columns": null,
            "grid_template_rows": null,
            "height": null,
            "justify_content": null,
            "justify_items": null,
            "left": null,
            "margin": null,
            "max_height": null,
            "max_width": null,
            "min_height": null,
            "min_width": null,
            "object_fit": null,
            "object_position": null,
            "order": null,
            "overflow": null,
            "overflow_x": null,
            "overflow_y": null,
            "padding": null,
            "right": null,
            "top": null,
            "visibility": null,
            "width": null
          }
        },
        "0801084f1f1e4098926b03f5813458e8": {
          "model_module": "@jupyter-widgets/controls",
          "model_name": "SliderStyleModel",
          "model_module_version": "1.5.0",
          "state": {
            "_model_module": "@jupyter-widgets/controls",
            "_model_module_version": "1.5.0",
            "_model_name": "SliderStyleModel",
            "_view_count": null,
            "_view_module": "@jupyter-widgets/base",
            "_view_module_version": "1.2.0",
            "_view_name": "StyleView",
            "description_width": "",
            "handle_color": null
          }
        },
        "1e46a30100694b579a545e5947ae4835": {
          "model_module": "@jupyter-widgets/controls",
          "model_name": "IntSliderModel",
          "model_module_version": "1.5.0",
          "state": {
            "_dom_classes": [],
            "_model_module": "@jupyter-widgets/controls",
            "_model_module_version": "1.5.0",
            "_model_name": "IntSliderModel",
            "_view_count": null,
            "_view_module": "@jupyter-widgets/controls",
            "_view_module_version": "1.5.0",
            "_view_name": "IntSliderView",
            "continuous_update": true,
            "description": "Broj boja:",
            "description_tooltip": null,
            "disabled": false,
            "layout": "IPY_MODEL_3a525f48766e406c8ff05bda9d8103fe",
            "max": 8,
            "min": 2,
            "orientation": "horizontal",
            "readout": true,
            "readout_format": "d",
            "step": 1,
            "style": "IPY_MODEL_dd970d6421c840a5991de6586ee00f81",
            "value": 6
          }
        },
        "3a525f48766e406c8ff05bda9d8103fe": {
          "model_module": "@jupyter-widgets/base",
          "model_name": "LayoutModel",
          "model_module_version": "1.2.0",
          "state": {
            "_model_module": "@jupyter-widgets/base",
            "_model_module_version": "1.2.0",
            "_model_name": "LayoutModel",
            "_view_count": null,
            "_view_module": "@jupyter-widgets/base",
            "_view_module_version": "1.2.0",
            "_view_name": "LayoutView",
            "align_content": null,
            "align_items": null,
            "align_self": null,
            "border": null,
            "bottom": null,
            "display": null,
            "flex": null,
            "flex_flow": null,
            "grid_area": null,
            "grid_auto_columns": null,
            "grid_auto_flow": null,
            "grid_auto_rows": null,
            "grid_column": null,
            "grid_gap": null,
            "grid_row": null,
            "grid_template_areas": null,
            "grid_template_columns": null,
            "grid_template_rows": null,
            "height": null,
            "justify_content": null,
            "justify_items": null,
            "left": null,
            "margin": null,
            "max_height": null,
            "max_width": null,
            "min_height": null,
            "min_width": null,
            "object_fit": null,
            "object_position": null,
            "order": null,
            "overflow": null,
            "overflow_x": null,
            "overflow_y": null,
            "padding": null,
            "right": null,
            "top": null,
            "visibility": null,
            "width": null
          }
        },
        "dd970d6421c840a5991de6586ee00f81": {
          "model_module": "@jupyter-widgets/controls",
          "model_name": "SliderStyleModel",
          "model_module_version": "1.5.0",
          "state": {
            "_model_module": "@jupyter-widgets/controls",
            "_model_module_version": "1.5.0",
            "_model_name": "SliderStyleModel",
            "_view_count": null,
            "_view_module": "@jupyter-widgets/base",
            "_view_module_version": "1.2.0",
            "_view_name": "StyleView",
            "description_width": "",
            "handle_color": null
          }
        },
        "d93a6574b1014279be50b597431ba5c3": {
          "model_module": "@jupyter-widgets/controls",
          "model_name": "TextModel",
          "model_module_version": "1.5.0",
          "state": {
            "_dom_classes": [],
            "_model_module": "@jupyter-widgets/controls",
            "_model_module_version": "1.5.0",
            "_model_name": "TextModel",
            "_view_count": null,
            "_view_module": "@jupyter-widgets/controls",
            "_view_module_version": "1.5.0",
            "_view_name": "TextView",
            "continuous_update": false,
            "description": "Tajni kod:",
            "description_tooltip": null,
            "disabled": false,
            "layout": "IPY_MODEL_287f985521e54ff7a5efdd73979535c7",
            "placeholder": "​",
            "style": "IPY_MODEL_dbd7cab48be04012bfdf38821c79b564",
            "value": "3421"
          }
        },
        "287f985521e54ff7a5efdd73979535c7": {
          "model_module": "@jupyter-widgets/base",
          "model_name": "LayoutModel",
          "model_module_version": "1.2.0",
          "state": {
            "_model_module": "@jupyter-widgets/base",
            "_model_module_version": "1.2.0",
            "_model_name": "LayoutModel",
            "_view_count": null,
            "_view_module": "@jupyter-widgets/base",
            "_view_module_version": "1.2.0",
            "_view_name": "LayoutView",
            "align_content": null,
            "align_items": null,
            "align_self": null,
            "border": null,
            "bottom": null,
            "display": null,
            "flex": null,
            "flex_flow": null,
            "grid_area": null,
            "grid_auto_columns": null,
            "grid_auto_flow": null,
            "grid_auto_rows": null,
            "grid_column": null,
            "grid_gap": null,
            "grid_row": null,
            "grid_template_areas": null,
            "grid_template_columns": null,
            "grid_template_rows": null,
            "height": null,
            "justify_content": null,
            "justify_items": null,
            "left": null,
            "margin": null,
            "max_height": null,
            "max_width": null,
            "min_height": null,
            "min_width": null,
            "object_fit": null,
            "object_position": null,
            "order": null,
            "overflow": null,
            "overflow_x": null,
            "overflow_y": null,
            "padding": null,
            "right": null,
            "top": null,
            "visibility": null,
            "width": null
          }
        },
        "dbd7cab48be04012bfdf38821c79b564": {
          "model_module": "@jupyter-widgets/controls",
          "model_name": "DescriptionStyleModel",
          "model_module_version": "1.5.0",
          "state": {
            "_model_module": "@jupyter-widgets/controls",
            "_model_module_version": "1.5.0",
            "_model_name": "DescriptionStyleModel",
            "_view_count": null,
            "_view_module": "@jupyter-widgets/base",
            "_view_module_version": "1.2.0",
            "_view_name": "StyleView",
            "description_width": ""
          }
        },
        "afd60cbf17f0480a82b08fd8021f9675": {
          "model_module": "@jupyter-widgets/controls",
          "model_name": "ButtonModel",
          "model_module_version": "1.5.0",
          "state": {
            "_dom_classes": [],
            "_model_module": "@jupyter-widgets/controls",
            "_model_module_version": "1.5.0",
            "_model_name": "ButtonModel",
            "_view_count": null,
            "_view_module": "@jupyter-widgets/controls",
            "_view_module_version": "1.5.0",
            "_view_name": "ButtonView",
            "button_style": "",
            "description": "Potvrdi unos",
            "disabled": false,
            "icon": "",
            "layout": "IPY_MODEL_305f9e50b7d7433191fd19d6845de4e3",
            "style": "IPY_MODEL_5b17cec23e84464dac2d0c110be93933",
            "tooltip": ""
          }
        },
        "305f9e50b7d7433191fd19d6845de4e3": {
          "model_module": "@jupyter-widgets/base",
          "model_name": "LayoutModel",
          "model_module_version": "1.2.0",
          "state": {
            "_model_module": "@jupyter-widgets/base",
            "_model_module_version": "1.2.0",
            "_model_name": "LayoutModel",
            "_view_count": null,
            "_view_module": "@jupyter-widgets/base",
            "_view_module_version": "1.2.0",
            "_view_name": "LayoutView",
            "align_content": null,
            "align_items": null,
            "align_self": null,
            "border": null,
            "bottom": null,
            "display": null,
            "flex": null,
            "flex_flow": null,
            "grid_area": null,
            "grid_auto_columns": null,
            "grid_auto_flow": null,
            "grid_auto_rows": null,
            "grid_column": null,
            "grid_gap": null,
            "grid_row": null,
            "grid_template_areas": null,
            "grid_template_columns": null,
            "grid_template_rows": null,
            "height": null,
            "justify_content": null,
            "justify_items": null,
            "left": null,
            "margin": null,
            "max_height": null,
            "max_width": null,
            "min_height": null,
            "min_width": null,
            "object_fit": null,
            "object_position": null,
            "order": null,
            "overflow": null,
            "overflow_x": null,
            "overflow_y": null,
            "padding": null,
            "right": null,
            "top": null,
            "visibility": null,
            "width": null
          }
        },
        "5b17cec23e84464dac2d0c110be93933": {
          "model_module": "@jupyter-widgets/controls",
          "model_name": "ButtonStyleModel",
          "model_module_version": "1.5.0",
          "state": {
            "_model_module": "@jupyter-widgets/controls",
            "_model_module_version": "1.5.0",
            "_model_name": "ButtonStyleModel",
            "_view_count": null,
            "_view_module": "@jupyter-widgets/base",
            "_view_module_version": "1.2.0",
            "_view_name": "StyleView",
            "button_color": null,
            "font_weight": ""
          }
        },
        "b82c438ac5ae43ee92d06f0bd533f0ed": {
          "model_module": "@jupyter-widgets/controls",
          "model_name": "LabelModel",
          "model_module_version": "1.5.0",
          "state": {
            "_dom_classes": [],
            "_model_module": "@jupyter-widgets/controls",
            "_model_module_version": "1.5.0",
            "_model_name": "LabelModel",
            "_view_count": null,
            "_view_module": "@jupyter-widgets/controls",
            "_view_module_version": "1.5.0",
            "_view_name": "LabelView",
            "description": "",
            "description_tooltip": null,
            "layout": "IPY_MODEL_0bda1d5934784d8389cedd46b06a3b62",
            "placeholder": "​",
            "style": "IPY_MODEL_de7b09c644fe4cd0a4390c201ab5cc0e",
            "value": "Tajni kod je uspješno zadan!"
          }
        },
        "0bda1d5934784d8389cedd46b06a3b62": {
          "model_module": "@jupyter-widgets/base",
          "model_name": "LayoutModel",
          "model_module_version": "1.2.0",
          "state": {
            "_model_module": "@jupyter-widgets/base",
            "_model_module_version": "1.2.0",
            "_model_name": "LayoutModel",
            "_view_count": null,
            "_view_module": "@jupyter-widgets/base",
            "_view_module_version": "1.2.0",
            "_view_name": "LayoutView",
            "align_content": null,
            "align_items": null,
            "align_self": null,
            "border": null,
            "bottom": null,
            "display": null,
            "flex": null,
            "flex_flow": null,
            "grid_area": null,
            "grid_auto_columns": null,
            "grid_auto_flow": null,
            "grid_auto_rows": null,
            "grid_column": null,
            "grid_gap": null,
            "grid_row": null,
            "grid_template_areas": null,
            "grid_template_columns": null,
            "grid_template_rows": null,
            "height": null,
            "justify_content": null,
            "justify_items": null,
            "left": null,
            "margin": null,
            "max_height": null,
            "max_width": null,
            "min_height": null,
            "min_width": null,
            "object_fit": null,
            "object_position": null,
            "order": null,
            "overflow": null,
            "overflow_x": null,
            "overflow_y": null,
            "padding": null,
            "right": null,
            "top": null,
            "visibility": null,
            "width": null
          }
        },
        "de7b09c644fe4cd0a4390c201ab5cc0e": {
          "model_module": "@jupyter-widgets/controls",
          "model_name": "DescriptionStyleModel",
          "model_module_version": "1.5.0",
          "state": {
            "_model_module": "@jupyter-widgets/controls",
            "_model_module_version": "1.5.0",
            "_model_name": "DescriptionStyleModel",
            "_view_count": null,
            "_view_module": "@jupyter-widgets/base",
            "_view_module_version": "1.2.0",
            "_view_name": "StyleView",
            "description_width": ""
          }
        }
      }
    }
  },
  "cells": [
    {
      "cell_type": "markdown",
      "metadata": {
        "id": "view-in-github",
        "colab_type": "text"
      },
      "source": [
        "<a href=\"https://colab.research.google.com/github/majapavi/UmjetnaInteligencija/blob/main/Mastermind_projekt.ipynb\" target=\"_parent\"><img src=\"https://colab.research.google.com/assets/colab-badge.svg\" alt=\"Open In Colab\"/></a>"
      ]
    },
    {
      "cell_type": "markdown",
      "metadata": {
        "id": "AdMyPvZtbulg"
      },
      "source": [
        "# Mastermind - min-max algoritam Donalda Knuta\n",
        "izradila: Maja Pavičić<br>\n",
        "kolegij: Umjetna inteligencija, prof. dr. sc. Luka Grubišić<br>\n",
        "Prirodoslovno - matematički fakultet, Sveučilište u Zagrebu, prosinac 2023."
      ]
    },
    {
      "cell_type": "markdown",
      "metadata": {
        "id": "98m2rB1aMFig"
      },
      "source": [
        "## Opis igre\n",
        "\n",
        "Mastermind je igra za dva igrača. U klasičnoj varijanti igre igrač zadaje prvi tajni niz od 4 boje, pri čemu svaki član niza može biti jedna od 6 boja (dozvoljena su ponavljanja boja). Boje ćemo od sada označavati oznakama {1, ..., 6}. Drugi igrač nastoji pogoditi zadani niz.\n",
        "U svakom koraku igre drugi igrač predlaže niz od 4 boje. Prvi igrač uspoređuje predloženi i tajni niz. Sa brC označimo broj mjesta u nizu, za koje su boja predloženog i tajnog niza jednake. Zatim pogledamo ima li na preostalim mjestima još nekih boja koje se pojavljuju u oba niza. Broj takvih podudaranja označimo sa brB. Prvi igrač drugome vraća povratnu informaciju o vrijednostima brB i brC.\n",
        "Krugovi se ponavljaju, dok drugi igrač ne uspije točno pogoditi tajni niz.\n",
        "\n",
        "[Ovdje](https://webgamesonline.com/mastermind/) je trenutno dostupna jedna online simulacija igre Mastermind gdje možete pokušati pogoditi tajni kod koji će vam zadati računalo. Prvo podesite da se boje mogu ponavljati i ponovno pokrenite igru. Simulaciju sam pronašla na internetu i nisam njezin autor."
      ]
    },
    {
      "cell_type": "markdown",
      "metadata": {
        "id": "8ZsPlcUe5-Kf"
      },
      "source": [
        " Godine 1997. Donald Knuth, američki matematičar, pokazao je da se tajni niz uvijek može odrediti u najviše 5 poteza. Njegovo rješenje bazira se na min-max algoritmu i korištenju brzine računala jer pretpostavlja da se u svakom trenutku može brzo i efikasno točno odrediti koji su preostali neeliminirani kandidati za tajni kod. Njegov algoritam argumentiramo i implementiramo u nastavku."
      ]
    },
    {
      "cell_type": "markdown",
      "metadata": {
        "id": "ZQXjM0V79A1s"
      },
      "source": [
        "## [Donald Ervin Knuth](https://https://en.wikipedia.org/wiki/Donald_Knuth)\n",
        "\n",
        "![Knut.bmp](data:image/bmp;base64,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)\n",
        "\n",
        "američki matematičar i računalni znanstvenik, rođen je 1938. godine, a diplomirao na Case Institute of Technology u Clevelandu, Ohio, 1960. godine. Knuth je poznat po svojim radovima na teoriji računalnih algoritama i programskim jezicima.\n",
        "\n",
        "Jedno od značajnijih djela u njegovoj karijeri je serija knjiga \"The Art of Computer Programming\", koja je postala važno referentno djelo u području računalnih znanosti.\n",
        "\n",
        "Napisao je i knjigu \"Seminumerical Algorithms\" 1969. godine, u kojoj se uz generiranje slučajnih brojeva, bavi i konstrukcijom algoritma za igru Mastermind temeljenog na matematičkim principima.\n",
        "\n",
        "Knuth je također poznat po stvaranju programskih jezika TeX i Metafont. TeX se koristi za stvaranje dokumenata, dok Metafont omogućava dizajniranje fontova. Ova dostignuća su i dalje relevantna u akademskim krugovima."
      ]
    },
    {
      "cell_type": "markdown",
      "metadata": {
        "id": "Mee9Q47-jBsW"
      },
      "source": [
        "##Implementacija i objašnjenje algoritma\n",
        "Sljedeće ćelije koda izvršite po redu kako biste dobili funkcionalnu implementaciju algoritma.\n",
        "\n",
        "Najprije importamo nekoliko korištenih funkcionalnosti."
      ]
    },
    {
      "cell_type": "code",
      "execution_count": null,
      "metadata": {
        "id": "bnIzzHFqi9gw"
      },
      "outputs": [],
      "source": [
        "from random import randint\n",
        "from itertools import product\n",
        "from ipywidgets import IntSlider\n",
        "from ipywidgets import Button\n",
        "from ipywidgets import Label\n",
        "from ipywidgets import Text\n",
        "from IPython.display import display"
      ]
    },
    {
      "cell_type": "markdown",
      "metadata": {
        "id": "jyYKEVHGuzfa"
      },
      "source": [
        "Ako ste dobili grešku kod pokušaja importanja iz biblioteke ipywidgets, otkomentirajte i pokrenite donju naredbu za instalaciju biblioteke i pokušajte ponovno importirati.\n",
        "Ako se prethodna ćelija izvršila uspješno, možete preskočiti izvršavanje sljedeće ćelije."
      ]
    },
    {
      "cell_type": "code",
      "execution_count": null,
      "metadata": {
        "id": "gvN4B6DjuVae"
      },
      "outputs": [],
      "source": [
        "# !pip install ipywidgets"
      ]
    },
    {
      "cell_type": "markdown",
      "metadata": {
        "id": "BXJWczyiW3tw"
      },
      "source": [
        "Ovdje navodimo globalne varijable koje ćemo koristiti:\n",
        "*   duljinaKoda - duljinu pogađanog koda,\n",
        "*   brojBoja - broj boja među kojima biramo,\n",
        "*   tajniKod - pogađani niz boja, pri ćemu su boje kodirane dekadskim znamenkama.\n",
        "\n",
        "Pamćenje ovih varijabli kao globalnih potrebno je kako bismo interaktivno mogli mjenjati njihove vrjednosti."
      ]
    },
    {
      "cell_type": "code",
      "execution_count": null,
      "metadata": {
        "id": "4Lghx4B2W2wC"
      },
      "outputs": [],
      "source": [
        "duljinaKodova = 4\n",
        "brojBoja = 6\n",
        "tajniKod = None\n",
        "zastavicaZaRucnoPostavljenKod = False"
      ]
    },
    {
      "cell_type": "markdown",
      "metadata": {
        "id": "4aUrZl0zXUVf"
      },
      "source": [
        "Ako želite samostalno zadati kolika će biti duljina pogađanog niza i između koliko će se različitih boja pogađati, to možete korištenjem slidera koji će se stvoriti izvršavanjem sljedeće ćelije."
      ]
    },
    {
      "cell_type": "code",
      "execution_count": null,
      "metadata": {
        "id": "3V98nVN2lE5V",
        "outputId": "a889af51-c9d6-4a6e-963d-4008a76ec7c8",
        "colab": {
          "base_uri": "https://localhost:8080/",
          "height": 79,
          "referenced_widgets": [
            "5dc02cd36478445c96f5768419067b3a",
            "dd49fedea2d44b98b5eea761e16e8420",
            "0801084f1f1e4098926b03f5813458e8",
            "1e46a30100694b579a545e5947ae4835",
            "3a525f48766e406c8ff05bda9d8103fe",
            "dd970d6421c840a5991de6586ee00f81"
          ]
        }
      },
      "outputs": [
        {
          "output_type": "display_data",
          "data": {
            "text/plain": [
              "IntSlider(value=4, description='Duljina:', max=6, min=3)"
            ],
            "application/vnd.jupyter.widget-view+json": {
              "version_major": 2,
              "version_minor": 0,
              "model_id": "5dc02cd36478445c96f5768419067b3a"
            }
          },
          "metadata": {}
        },
        {
          "output_type": "display_data",
          "data": {
            "text/plain": [
              "IntSlider(value=6, description='Broj boja:', max=8, min=2)"
            ],
            "application/vnd.jupyter.widget-view+json": {
              "version_major": 2,
              "version_minor": 0,
              "model_id": "1e46a30100694b579a545e5947ae4835"
            }
          },
          "metadata": {}
        }
      ],
      "source": [
        "sliderDuljinaKodova = IntSlider(value=4, min=3, max=6, step=1, description='Duljina:')\n",
        "sliderBrojBoja = IntSlider(value=6, min=2, max=8, step=1, description='Broj boja:')\n",
        "\n",
        "# Funkcije koje će se pozvati kada se promijeni vrijednost slajdera\n",
        "def handle_sliderDuljinaKodova_change(change):\n",
        "    global duljinaKodova\n",
        "    duljinaKodova = change['new']\n",
        "    global zastavicaZaRucnoPostavljenKod\n",
        "    zastavicaZaRucnoPostavljenKod = False\n",
        "\n",
        "def handle_sliderBrojBoja_change(change):\n",
        "    global brojBoja\n",
        "    brojBoja = change['new']\n",
        "    global zastavicaZaRucnoPostavljenKod\n",
        "    zastavicaZaRucnoPostavljenKod = False\n",
        "\n",
        "# Registracija funkcija za rukovanje promjenama vrijednosti slajdera\n",
        "sliderDuljinaKodova.observe(handle_sliderDuljinaKodova_change, names='value')\n",
        "sliderBrojBoja.observe(handle_sliderBrojBoja_change, names='value')\n",
        "\n",
        "# Prikaz slajdera\n",
        "display(sliderDuljinaKodova)\n",
        "display(sliderBrojBoja)"
      ]
    },
    {
      "cell_type": "markdown",
      "metadata": {
        "id": "dWfS9dDfZjRK"
      },
      "source": [
        "Prelazimo na implementaciju funkcija korištenih u algoritmu (ćelije je potrebno izvršiti prije pokretanja main funkcije).\n",
        "\n",
        "Funkcija vratiTajniKod generira tajni kod zadane duljine i s bojama iz zadanog raspona (radi jednostavnosti, boje su repezentirane znamenkama)."
      ]
    },
    {
      "cell_type": "code",
      "execution_count": null,
      "metadata": {
        "id": "DbTBDfVyZZoW"
      },
      "outputs": [],
      "source": [
        "def vratiTajniKod():\n",
        "    \"\"\"Generiranje random tajnog koda\"\"\"\n",
        "    return \"\".join(str(randint(1, brojBoja)) for x in range(duljinaKodova))"
      ]
    },
    {
      "cell_type": "markdown",
      "metadata": {
        "id": "jxa2ZUU7T9M3"
      },
      "source": [
        "Tajni kod možemo zadati i sami, pokretanjem donje ćelije i korištenjem jednostavnog interfacea koji se pritom stvori. Ako donju ćeliju ne izvršimo ili kroz interface ne zadamo valjani tajni kod, algoritam će koristiti prethodno stvorenu funkciju vratiTajniKod."
      ]
    },
    {
      "cell_type": "code",
      "execution_count": null,
      "metadata": {
        "id": "wc82mtBRtyV7",
        "outputId": "aeee88f9-34e5-4e84-b496-1b2fd3cef08a",
        "colab": {
          "base_uri": "https://localhost:8080/",
          "height": 113,
          "referenced_widgets": [
            "d93a6574b1014279be50b597431ba5c3",
            "287f985521e54ff7a5efdd73979535c7",
            "dbd7cab48be04012bfdf38821c79b564",
            "afd60cbf17f0480a82b08fd8021f9675",
            "305f9e50b7d7433191fd19d6845de4e3",
            "5b17cec23e84464dac2d0c110be93933",
            "b82c438ac5ae43ee92d06f0bd533f0ed",
            "0bda1d5934784d8389cedd46b06a3b62",
            "de7b09c644fe4cd0a4390c201ab5cc0e"
          ]
        }
      },
      "outputs": [
        {
          "output_type": "display_data",
          "data": {
            "text/plain": [
              "Text(value='', continuous_update=False, description='Tajni kod:')"
            ],
            "application/vnd.jupyter.widget-view+json": {
              "version_major": 2,
              "version_minor": 0,
              "model_id": "d93a6574b1014279be50b597431ba5c3"
            }
          },
          "metadata": {}
        },
        {
          "output_type": "display_data",
          "data": {
            "text/plain": [
              "Button(description='Potvrdi unos', style=ButtonStyle())"
            ],
            "application/vnd.jupyter.widget-view+json": {
              "version_major": 2,
              "version_minor": 0,
              "model_id": "afd60cbf17f0480a82b08fd8021f9675"
            }
          },
          "metadata": {}
        },
        {
          "output_type": "display_data",
          "data": {
            "text/plain": [
              "Label(value='')"
            ],
            "application/vnd.jupyter.widget-view+json": {
              "version_major": 2,
              "version_minor": 0,
              "model_id": "b82c438ac5ae43ee92d06f0bd533f0ed"
            }
          },
          "metadata": {}
        }
      ],
      "source": [
        "def validate_input(change):\n",
        "    try:\n",
        "        unos = text_input.value\n",
        "\n",
        "        # Provjeri je li unos ispravne duljine\n",
        "        if(len(unos) != duljinaKodova):\n",
        "            raise ValueError(f\"Duljina nizova je postavljena na {duljinaKodova}\")\n",
        "\n",
        "        # Provjeri jesu li brojevi unutar zadanog raspona\n",
        "        for broj in unos:\n",
        "            if int(broj) < 1 or int(broj) > brojBoja:\n",
        "                raise ValueError(f\"Sve oznake boja moraju biti unutar zadanog raspona [1, {brojBoja}]\")\n",
        "\n",
        "        # Ispisi poruku o uspješnom unosu\n",
        "        output_label.value = \"Tajni kod je uspješno zadan!\"\n",
        "\n",
        "        # Ako prođe sve provjere, vrati vrijednost\n",
        "        global tajniKod\n",
        "        tajniKod = unos\n",
        "        global zastavicaZaRucnoPostavljenKod\n",
        "        zastavicaZaRucnoPostavljenKod = True\n",
        "\n",
        "    except ValueError as e:\n",
        "        # Ako dođe do greške, ispiši poruku o greški\n",
        "        output_label.value = f\"Greška: {e}\"\n",
        "\n",
        "# Tekstualni unos za znamenke\n",
        "text_input = Text(\n",
        "    value='',\n",
        "    description='Tajni kod:',\n",
        "    continuous_update=False\n",
        ")\n",
        "\n",
        "# Gumb za potvrdu unosa\n",
        "confirm_button = Button(description=\"Potvrdi unos\")\n",
        "\n",
        "# Izlazna oznaka za prikaz poruka\n",
        "output_label = Label(value=\"\")\n",
        "\n",
        "# Povezivanje funkcije s događajem klikanja na gumb\n",
        "confirm_button.on_click(validate_input)\n",
        "\n",
        "# Prikaz widgeta\n",
        "display(text_input, confirm_button, output_label)"
      ]
    },
    {
      "cell_type": "markdown",
      "metadata": {
        "id": "KPCp27EBtYeL"
      },
      "source": [
        "Funkcija inicijalniPokušaj generira kod s kojim ćemo započeti našu seriju pogađanja. Knutov algoritam počinje s vrijednošću \"1122\", a isti postupak gdje niz započinje sa najvećeCijelo(duljinaKodova:2) jedinica, a preostalo su dvojke."
      ]
    },
    {
      "cell_type": "code",
      "execution_count": null,
      "metadata": {
        "id": "5b4fdhtScsfb"
      },
      "outputs": [],
      "source": [
        "def inicijalniPokusaj():\n",
        "    br1 = duljinaKodova // 2\n",
        "    br2 = duljinaKodova - br1\n",
        "    return (\"1\" * br1 + \"2\" * br2)"
      ]
    },
    {
      "cell_type": "markdown",
      "metadata": {
        "id": "qzeexeHtU_9Y"
      },
      "source": [
        "Donja funkcija generirajSveKodove generira skup svih mogućih kodova boja zadane duljine i raspona.\n",
        "\n",
        "Funkcija generirajSvePovratneInfo služi za generiranje svih potencijalnih povratnih informacija koje možemo dobiti nakon nekog kruga igre. Ona koristi i pomoćnu funkciju dodaj, koju koristimo rekurzivno. Ako predani kodovi nemaju nijednu zajedničku boju, funkcija vraća povratni kod \".\", umjesto praznog stringa \"\".\n",
        "\n",
        "\n",
        "Ovako dobivene skupove kasnije ćemo koristiti u minmax algoritmu."
      ]
    },
    {
      "cell_type": "code",
      "execution_count": null,
      "metadata": {
        "id": "ZSNykcOPU-6_"
      },
      "outputs": [],
      "source": [
        "def generirajSveKodove():\n",
        "    \"\"\"generiranje skupa svih mogucih tajnih kodova\"\"\"\n",
        "    znamenke = \"\".join(str(x) for x in range(1, brojBoja + 1))\n",
        "    return set(\"\".join(x) for x in product(znamenke, repeat=duljinaKodova))"
      ]
    },
    {
      "cell_type": "code",
      "execution_count": null,
      "metadata": {
        "id": "zfq-sYzka_Pc"
      },
      "outputs": [],
      "source": [
        "def dodaj(kod, svePovratneInfo):\n",
        "    \"\"\"pomocna funkcija od 'generirajSvePovratneInfo', rekurzivno dodavanje novog slova na postojece nizove\"\"\"\n",
        "    svePovratneInfo.append(kod)\n",
        "    if len(kod) < duljinaKodova:\n",
        "        if kod[len(kod) - 1] != \"C\":\n",
        "            dodaj(kod + \"B\", svePovratneInfo)\n",
        "        dodaj(kod + \"C\", svePovratneInfo)\n",
        "\n",
        "\n",
        "def generirajSvePovratneInfo():\n",
        "    \"\"\"generiranje liste svih mogucih povratnih informacijskih kodova\"\"\"\n",
        "    svePovratneInfo = [\".\"]\n",
        "    dodaj(\"B\", svePovratneInfo)\n",
        "    dodaj(\"C\", svePovratneInfo)\n",
        "    return svePovratneInfo"
      ]
    },
    {
      "cell_type": "markdown",
      "metadata": {
        "id": "y3CfyMLdb0-O"
      },
      "source": [
        "Funkcija vratiPovratnuInfo za predana dva koda, vraća informaciju o tome koliko su oni međusobno slični, odnosno koliko iznose brB i brC za dani par. Tu funkciju koristimo za generiranje povratne informacije u svakom koraku igre, ali i kao pomoćnu funkciju u funkciji ukloniNezadovoljavajuceKodove koju definiramo odmah ispod."
      ]
    },
    {
      "cell_type": "code",
      "execution_count": null,
      "metadata": {
        "id": "Z33Udynpb1sg"
      },
      "outputs": [],
      "source": [
        "def brJednakihSlova(trenutniPokusaj, tajniKod):\n",
        "    \"\"\"racunanje koliko ima istih slova u dva koda, neovisno o polozaju slova\"\"\"\n",
        "    slovaTrenutni = {}\n",
        "    slovaTajni = {}\n",
        "    for slovo in trenutniPokusaj:\n",
        "        slovaTrenutni[slovo] = slovaTrenutni.get(slovo, 0) + 1\n",
        "    for slovo in tajniKod:\n",
        "        slovaTajni[slovo] = slovaTajni.get(slovo, 0) + 1\n",
        "\n",
        "    podudaranja = 0\n",
        "    for slovo, broj_pojavljivanja in slovaTrenutni.items():\n",
        "        if slovo in slovaTajni:\n",
        "            podudaranja += min(broj_pojavljivanja, slovaTajni[slovo])\n",
        "\n",
        "    return podudaranja\n",
        "\n",
        "\n",
        "def vratiPovratnuInfo(trenutniPokusaj, tajniKod):\n",
        "    \"\"\"vracanje povratne informacije o uspjesnosti trenutnog pokusaja\"\"\"\n",
        "\n",
        "    #brojanje potpunih pogodaka\n",
        "    brC = sum(i == j for i, j in zip(trenutniPokusaj, tajniKod))\n",
        "\n",
        "    #brojanje djelomicnih pogodaka\n",
        "    brB = brJednakihSlova(trenutniPokusaj, tajniKod) - brC\n",
        "\n",
        "    if brC == 0 and brB == 0:\n",
        "        return \".\"\n",
        "\n",
        "    return (\"B\" * brB + \"C\" * brC)"
      ]
    },
    {
      "cell_type": "markdown",
      "metadata": {
        "id": "6oBFiQZjbXmb"
      },
      "source": [
        "Nakon što dobijemo povratnuInformaciju o prethodnom pokušaju, reduciramo skup kodova koje smatramo kandidatima za tajni kod. Naime za proizvoljni preostali kod pretpostavimo da je ujedno tajni kod i provjerimo koju će nam povratnu informaciju dati sa prethodnim pokušajem. Ako tako dobivena povratna informacija nije povratnaInformacija, dobili smo kontradikciju i možemo izbaciti taj kod iz skupa kandidata. Tako u svakom krugu reduciramo broj potencijalnih kandidata, dok nam ne ostane samo jedan."
      ]
    },
    {
      "cell_type": "code",
      "execution_count": null,
      "metadata": {
        "id": "HH0b7d0Uchab"
      },
      "outputs": [],
      "source": [
        "def ukloniNezadovoljavajuceKodove(povratnaInfo, trenutniPokusaj, polazniKodovi):\n",
        "    \"\"\"uklanjanje iz skupa preostalih kodova one koji ne odgovaraju zadnjoj povratnoj informaciji\"\"\"\n",
        "    #stvori novi set koji dodaje samo one koje treba i to vrati\n",
        "    filtriraniKodovi = set()\n",
        "    for i in polazniKodovi:\n",
        "        tempInfo = vratiPovratnuInfo(i, trenutniPokusaj)\n",
        "        if tempInfo == povratnaInfo:\n",
        "            filtriraniKodovi.add(i)\n",
        "    return filtriraniKodovi"
      ]
    },
    {
      "cell_type": "markdown",
      "metadata": {
        "id": "zdzKti1Zpx0N"
      },
      "source": [
        "U funkciji izaberiNajboljegKandidata vrednujemo sljedeće potencijane kandidate i u njoj je smještena min-max logika algoritma. U vanjskoj petlji prelazimo po svim preostalim kodovima  Testiramo svaki mogući potencijalni kod i gledamo od svih mogućih povratnih kodova koje možemo dobiti uz taj pokušaj, koliko najviše preostalih kodova može biti pridruženo pripadnoj povratnoj informaciji. Za sljedeći korak na kraju biramo onaj kod za koji je maksimalna pridružena vrijednost najmanja. Na taj način ograničavamo koliko najviše kodova može ostati neeliminirano u sljedećem koraku.\n",
        "\n",
        "**Dakle nastojimo *minimizirati* *maksimalni* broj neeliminiranih kodova u sljedećem koraku. Koristimo i podrezivanje, naime ako vidimo da će za nekog kandidata broj pojavljivanja neke povratne vrijednosti premašiti da sada pronađeni maksimalni broj ponavljanja za nekog prethodno testiranog kandidata, tog kandidata odmah odbacujemo.**"
      ]
    },
    {
      "cell_type": "code",
      "execution_count": null,
      "metadata": {
        "id": "RQF4_53ochSl"
      },
      "outputs": [],
      "source": [
        "def izaberiNajboljegKandidata(preostaliKodovi, svePovratneInfo):\n",
        "    \"\"\"ocjenjuje preostale kandidate\"\"\"\n",
        "    maxInt = 7 ** duljinaKodova\n",
        "    kvalitetePokusaja = dict.fromkeys(preostaliKodovi, maxInt)\n",
        "    minimumNeeliminiranihKodova = maxInt\n",
        "    najboljiKandidat = \"\"\n",
        "\n",
        "    #petlja po potencijalnim kandidatima za sljedeci potez:\n",
        "    for privremeniPokusaj in preostaliKodovi:\n",
        "        ucestalostPovratneInfo = dict.fromkeys(svePovratneInfo, 0)\n",
        "        maksUcestalost = 0\n",
        "\n",
        "        for i in preostaliKodovi:\n",
        "            if i == privremeniPokusaj:\n",
        "                continue\n",
        "            privremeniPovratniKod = vratiPovratnuInfo(i, privremeniPokusaj)\n",
        "            ucestalostPovratneInfo[privremeniPovratniKod] += 1\n",
        "            if ucestalostPovratneInfo[privremeniPovratniKod] >= minimumNeeliminiranihKodova:\n",
        "                break\n",
        "\n",
        "        #pokusaj se vrednuje kao supremumom ucestalosti ponavljanja povratnih kodova\n",
        "        kvalitetePokusaja[privremeniPokusaj] = max(ucestalostPovratneInfo.values())\n",
        "        if kvalitetePokusaja[privremeniPokusaj] < minimumNeeliminiranihKodova:\n",
        "            minimumNeeliminiranihKodova = kvalitetePokusaja[privremeniPokusaj]\n",
        "            najboljiKandidat = privremeniPokusaj\n",
        "\n",
        "    return najboljiKandidat"
      ]
    },
    {
      "cell_type": "markdown",
      "metadata": {
        "id": "rl1Iw7tmuYXl"
      },
      "source": [
        "Preostaje upotrijebiti sve implementirane funkcije u pravilnom poretku. Prvo generiramo potrebne skupove i kodove, a zatim svaki korak while petlje odgovara jednom koraku igre. Za trenutni pokušaj prvog igrača dobijemo povratnu informaciju, na temelju koje eliminiramo nepotrebne kodove i nakon toga prelazimo na odabir sljedećeg pokušaja za pogodak."
      ]
    },
    {
      "cell_type": "code",
      "execution_count": null,
      "metadata": {
        "id": "p-LKg56UcxFS"
      },
      "outputs": [],
      "source": [
        "def mastermind(tajniKod):\n",
        "    print(\"Tajni kod: \", tajniKod, \"\\n---------------------------\\n\")\n",
        "\n",
        "    trenutniPokusaj = inicijalniPokusaj()\n",
        "    preostaliKodovi = generirajSveKodove()\n",
        "    svePovratneInfo = generirajSvePovratneInfo()\n",
        "\n",
        "    runda = 1\n",
        "    while trenutniPokusaj != tajniKod:\n",
        "        povratnaInfo = vratiPovratnuInfo(trenutniPokusaj, tajniKod)\n",
        "        preostaliKodovi = ukloniNezadovoljavajuceKodove(povratnaInfo, trenutniPokusaj, preostaliKodovi)\n",
        "        print(f\"Korak: {runda}\\nTrenutni pokusaj: {trenutniPokusaj}\\nPreostalo kodova: {len(preostaliKodovi)}\\n\")\n",
        "        trenutniPokusaj = izaberiNajboljegKandidata(preostaliKodovi, svePovratneInfo)\n",
        "        runda += 1\n",
        "    print(f\"Korak: {runda}\\nTrenutni pokusaj: {trenutniPokusaj}\\n\")\n",
        "\n",
        "    global zastavicaZaRucnoPostavljenKod\n",
        "    zastavicaZaRucnoPostavljenKod = False\n",
        "    print(f\"Algoritam je pogodio tajni kod u {runda} koraka.\")\n",
        "    if runda > 6:\n",
        "        print(tajniKod)"
      ]
    },
    {
      "cell_type": "markdown",
      "source": [
        "Pokretanjem donje ćelije pokrećete cijeli algoritam. Slobodno pokrenite ćeliju više puta, mijenjajte dozvoljene parametre i vidite rezultate za različite kodove."
      ],
      "metadata": {
        "id": "1mRBETtzSXmN"
      }
    },
    {
      "cell_type": "code",
      "source": [
        "if zastavicaZaRucnoPostavljenKod == False:\n",
        "    tajniKod = vratiTajniKod()\n",
        "\n",
        "mastermind(tajniKod)"
      ],
      "metadata": {
        "id": "iRd9Bx-spNol",
        "outputId": "d0e61a0a-a62d-4ce1-c4d8-87da1ce997c2",
        "colab": {
          "base_uri": "https://localhost:8080/"
        }
      },
      "execution_count": null,
      "outputs": [
        {
          "output_type": "stream",
          "name": "stdout",
          "text": [
            "Tajni kod:  3421 \n",
            "---------------------------\n",
            "\n",
            "Korak: 1\n",
            "Trenutni pokusaj: 1122\n",
            "Preostalo kodova: 208\n",
            "\n",
            "Korak: 2\n",
            "Trenutni pokusaj: 1641\n",
            "Preostalo kodova: 32\n",
            "\n",
            "Korak: 3\n",
            "Trenutni pokusaj: 3131\n",
            "Preostalo kodova: 3\n",
            "\n",
            "Korak: 4\n",
            "Trenutni pokusaj: 5111\n",
            "Preostalo kodova: 1\n",
            "\n",
            "Korak: 5\n",
            "Trenutni pokusaj: 3421\n",
            "\n",
            "Algoritam je pogodio tajni kod u 5 koraka.\n"
          ]
        }
      ]
    },
    {
      "cell_type": "markdown",
      "source": [
        "## Izvori\n",
        "\n",
        "*   [Stranica engleske Wikipedije o Mastermindu, https://en.wikipedia.org/wiki/Mastermind_(board_game)](https://en.wikipedia.org/wiki/Mastermind_(board_game))\n",
        "*   [Online dostupna simulacija igre Mastermind, https://webgamesonline.com/mastermind/](https://webgamesonline.com/mastermind/)\n",
        "*   [ChatGPT 3.5, https://chat.openai.com/](https://chat.openai.com/)\n",
        "*   [Stranica Wikipedije o Donaldu Knutu, https://en.wikipedia.org/wiki/Donald_Knuth](https://en.wikipedia.org/wiki/Donald_Knuth)"
      ],
      "metadata": {
        "id": "D0UR8ClvFL7z"
      }
    }
  ]
}